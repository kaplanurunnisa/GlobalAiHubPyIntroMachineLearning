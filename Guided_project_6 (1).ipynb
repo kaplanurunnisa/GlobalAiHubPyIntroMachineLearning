{
  "nbformat": 4,
  "nbformat_minor": 0,
  "metadata": {
    "colab": {
      "name": "Guided_project_6.ipynb",
      "provenance": [],
      "collapsed_sections": []
    },
    "kernelspec": {
      "name": "python3",
      "display_name": "Python 3"
    },
    "language_info": {
      "name": "python"
    }
  },
  "cells": [
    {
      "cell_type": "markdown",
      "source": [
        "#Chapter 6\n",
        "## Data Visualization\n",
        "\n",
        "Your manager wants you to provide data visualizations for the sales team to help them gain better, useful insights.\n",
        "\n"
      ],
      "metadata": {
        "id": "5jgSAdg2OdNB"
      }
    },
    {
      "cell_type": "markdown",
      "source": [
        "###Importing Libraries\n",
        "\n",
        "First, you need to import the required libraries.\n",
        "\n",
        "📌 Import the Matplotlib and Pandas libraries.\n"
      ],
      "metadata": {
        "id": "zbfSem6dPJBA"
      }
    },
    {
      "cell_type": "code",
      "source": [
        "#Import Matplotlib and Pandas\n",
        "import pandas as pd\n",
        "import matplotlib.pyplot as plt"
      ],
      "metadata": {
        "id": "17RkQhf9e2ys"
      },
      "execution_count": 3,
      "outputs": []
    },
    {
      "cell_type": "markdown",
      "source": [
        "###Matplotlib Basics\n",
        "\n",
        "Before focusing on your task, first practice the Matplotlib basics.\n",
        "\n",
        "📌 Create example data:\n",
        "  1. A list for the x-axis values\n",
        "  2. A list for the y-axis values\n"
      ],
      "metadata": {
        "id": "Hkgg9XRT8fBh"
      }
    },
    {
      "cell_type": "code",
      "source": [
        "#Create a list for the x-axis values\n",
        "x= [0, 2, 4, 6, 8, 10, 12, 14, 16]\n",
        "#Create a list for the y-axis values\n",
        "y= [0, 4, 16, 36, 64, 100, 144, 196, 256]"
      ],
      "metadata": {
        "id": "kQ-E0ehv_Iie"
      },
      "execution_count": 4,
      "outputs": []
    },
    {
      "cell_type": "markdown",
      "source": [
        "####Line plot\n",
        "Use this simple data to explore some of the different graph types.\n",
        "\n",
        "📌 Use the .plot() function of Matplotlib to create a line plot and the .title() method to add the title \"Example data - Line plot\". \n",
        "\n",
        "📌 Use *plt.show()* to display the plot.\n"
      ],
      "metadata": {
        "id": "K5PFIDduEBNH"
      }
    },
    {
      "cell_type": "code",
      "source": [
        "#Use the .plot() function to create a line plot\n",
        "plt.plot(x,y)\n",
        "#Use the .title() method to add the title\n",
        "plt.title(\"Example data - Line Plot\")\n",
        "#Display the plot\n",
        "plt.show()"
      ],
      "metadata": {
        "id": "Q2RJR-lACHtT",
        "colab": {
          "base_uri": "https://localhost:8080/",
          "height": 281
        },
        "outputId": "d3545d5e-7c39-4557-9191-7cec947bed53"
      },
      "execution_count": 6,
      "outputs": [
        {
          "output_type": "display_data",
          "data": {
            "text/plain": [
              "<Figure size 432x288 with 1 Axes>"
            ],
            "image/png": "[encoded data removed]"
          },
          "metadata": {
            "needs_background": "light"
          }
        }
      ]
    },
    {
      "cell_type": "markdown",
      "source": [
        "####Scatter plot\n",
        "\n",
        "Next, use the same data to create a scatter plot.\n",
        "\n",
        "📌 Use the .scatter() function of Matplotlib to create a scatter plot and use the .title() method to add the title \"Example data - Scatter plot\".\n",
        "\n",
        "📌 Use *plt.show()* to display the plot.\n"
      ],
      "metadata": {
        "id": "lNE6V48wIGAm"
      }
    },
    {
      "cell_type": "code",
      "source": [
        "#Use the .scatter() function to create a scatter plot\n",
        "plt.scatter(x, y)\n",
        "#Use the .title() method to add the title\n",
        "plt.title(\"Example data - Scatter Plot\")\n",
        "#Display the plot\n",
        "plt.show()"
      ],
      "metadata": {
        "id": "xMwQPq0qJlDn",
        "colab": {
          "base_uri": "https://localhost:8080/",
          "height": 281
        },
        "outputId": "4d2ce3ed-efeb-4654-b4bf-12786d506952"
      },
      "execution_count": 7,
      "outputs": [
        {
          "output_type": "display_data",
          "data": {
            "text/plain": [
              "<Figure size 432x288 with 1 Axes>"
            ],
            "image/png": "[encoded data removed]"
          },
          "metadata": {
            "needs_background": "light"
          }
        }
      ]
    },
    {
      "cell_type": "markdown",
      "source": [
        "####Bar chart\n",
        "\n",
        "Lastly, use the same data to create a bar chart.\n",
        "\n",
        "📌 Use the .bar() function of Matplotlib to create a bar chart and use the .title() method to add the title \"Example data - Bar chart\".\n",
        "\n",
        "📌 Use *plt.show()* to display the chart."
      ],
      "metadata": {
        "id": "LvRSS0hpZf5a"
      }
    },
    {
      "cell_type": "code",
      "source": [
        "#Use the .bar() function to create a bar chart\n",
        "plt.bar(x, y)\n",
        "#Use the .title() method to add the title\n",
        "plt.title(\"Example data - Bar Plot\")\n",
        "#Display the chart\n",
        "plt.show()"
      ],
      "metadata": {
        "id": "qZtSOedrKsxX",
        "colab": {
          "base_uri": "https://localhost:8080/",
          "height": 281
        },
        "outputId": "2c5d156a-7650-4bda-a3cc-490c2d46330a"
      },
      "execution_count": 9,
      "outputs": [
        {
          "output_type": "display_data",
          "data": {
            "text/plain": [
              "<Figure size 432x288 with 1 Axes>"
            ],
            "image/png": "[encoded data removed]"
          },
          "metadata": {
            "needs_background": "light"
          }
        }
      ]
    },
    {
      "cell_type": "markdown",
      "source": [
        "###Display multiple graphs in on figure\n",
        "\n",
        "You decide that you would like to see the graphs side by side. Each graph should have a different color to make the figure more readable.\n",
        "\n",
        "📌 Use the .figure() function of Matplotlib and its argument \"figsize\" to create a figure object of the size 18x5.\n",
        "\n",
        "📌 Use the .add_subplot() method to add the three graphs you just created to the figure and add a title to each. \n",
        "\n",
        "  * There should be 1 row with the 3 graphs. \n",
        "\n",
        "  * Use the \"color\" argument to change the color of each plot:\n",
        "    1. Line plot: red\n",
        "    2. Scatter plot: green\n",
        "    3. Bar chart: orange"
      ],
      "metadata": {
        "id": "9TM1cLF3KuhX"
      }
    },
    {
      "cell_type": "code",
      "source": [
        "#Create a figure object of the size 18x5\n",
        "fig = plt.figure(figsize = (18, 5))\n",
        "\n",
        "#Use the .add_subplot() method to add the line plot\n",
        "first_plot = fig.add_subplot(1,3,1)\n",
        "#Change the color to red\n",
        "first_plot.plot(x,y, color=\"red\")\n",
        "#Add the title\n",
        "first_plot.set_title(\"Example data Line Plot\")\n",
        "\n",
        "#Use the .add_subplot() method to add the scatter plot\n",
        "second_plot = fig.add_subplot(1,3,2)\n",
        "#Change the color to green\n",
        "second_plot.scatter(x,y, color=\"green\")\n",
        "#Add the title\n",
        "second_plot.set_title(\"Example data - Scatter Plot\")\n",
        "\n",
        "#Use the .add_subplot() method to add the bar chart\n",
        "third_plot = fig.add_subplot(1,3,3)\n",
        "#Change the color to orange\n",
        "third_plot.bar(x,y, color=\"orange\")\n",
        "#Add the title\n",
        "third_plot.set_title(\"Example data - Bar Plot\")\n",
        "#Display the figure\n",
        "plt.show()"
      ],
      "metadata": {
        "id": "7Myfb-oVr-Wv",
        "colab": {
          "base_uri": "https://localhost:8080/",
          "height": 254
        },
        "outputId": "18ada50d-4fa9-4f6d-dccb-76f936ebe0fb"
      },
      "execution_count": 13,
      "outputs": [
        {
          "output_type": "display_data",
          "data": {
            "text/plain": [
              "<Figure size 1296x360 with 3 Axes>"
            ],
            "image/png": "[encoded data removed]"
          },
          "metadata": {
            "needs_background": "light"
          }
        }
      ]
    },
    {
      "cell_type": "markdown",
      "source": [
        "###Visualization of the sales report\n",
        "\n",
        "Now, you are prepared to take on your task. \n",
        "\n",
        "The sales team is creating a report and they need a visualization of the results. Your manager Rachel asks you to create some graphs so people reviewing the report will have a better understanding of the data. They deliver you a .csv file that contains the sales data."
      ],
      "metadata": {
        "id": "RliAIBFUiTBC"
      }
    },
    {
      "cell_type": "markdown",
      "source": [
        "####Data Preparation\n",
        "\n",
        "First you need to get the data from the .csv file.\n",
        "\n",
        "📌 Use the .read_csv() function to read \"employee_performance.csv\" and assign it to the variable \"data\".\n",
        "\n",
        "📌 Use the .head() function to check what the dataset contains."
      ],
      "metadata": {
        "id": "KkoxQUK6zqu-"
      }
    },
    {
      "cell_type": "code",
      "execution_count": 14,
      "metadata": {
        "id": "CZou7BxPOFeX",
        "colab": {
          "base_uri": "https://localhost:8080/",
          "height": 206
        },
        "outputId": "00e9ecff-db21-4c63-d9a3-383c3f333edb"
      },
      "outputs": [
        {
          "output_type": "execute_result",
          "data": {
            "text/plain": [
              "     Name   Job Type Experience Level    Education  Number of Calls  \\\n",
              "0    Omer  Full-Time           Senior  High School              400   \n",
              "1  Arnold  Full-Time           Junior   University              150   \n",
              "2   Aidan  Full-Time           Senior      College              170   \n",
              "3     Sue  Part-Time              Mid  High School              220   \n",
              "4     Ben  Full-Time           Junior      College              140   \n",
              "\n",
              "   Average Deal Size  Revenue  \n",
              "0                  8     2000  \n",
              "1                 10     1000  \n",
              "2                 15     2000  \n",
              "3                  5     1000  \n",
              "4                 22     1600  "
            ],
            "text/html": [
              "\n",
              "  <div id=\"df-b4124f54-565d-4353-9b20-a091756e1f02\">\n",
              "    <div class=\"colab-df-container\">\n",
              "      <div>\n",
              "<style scoped>\n",
              "    .dataframe tbody tr th:only-of-type {\n",
              "        vertical-align: middle;\n",
              "    }\n",
              "\n",
              "    .dataframe tbody tr th {\n",
              "        vertical-align: top;\n",
              "    }\n",
              "\n",
              "    .dataframe thead th {\n",
              "        text-align: right;\n",
              "    }\n",
              "</style>\n",
              "<table border=\"1\" class=\"dataframe\">\n",
              "  <thead>\n",
              "    <tr style=\"text-align: right;\">\n",
              "      <th></th>\n",
              "      <th>Name</th>\n",
              "      <th>Job Type</th>\n",
              "      <th>Experience Level</th>\n",
              "      <th>Education</th>\n",
              "      <th>Number of Calls</th>\n",
              "      <th>Average Deal Size</th>\n",
              "      <th>Revenue</th>\n",
              "    </tr>\n",
              "  </thead>\n",
              "  <tbody>\n",
              "    <tr>\n",
              "      <th>0</th>\n",
              "      <td>Omer</td>\n",
              "      <td>Full-Time</td>\n",
              "      <td>Senior</td>\n",
              "      <td>High School</td>\n",
              "      <td>400</td>\n",
              "      <td>8</td>\n",
              "      <td>2000</td>\n",
              "    </tr>\n",
              "    <tr>\n",
              "      <th>1</th>\n",
              "      <td>Arnold</td>\n",
              "      <td>Full-Time</td>\n",
              "      <td>Junior</td>\n",
              "      <td>University</td>\n",
              "      <td>150</td>\n",
              "      <td>10</td>\n",
              "      <td>1000</td>\n",
              "    </tr>\n",
              "    <tr>\n",
              "      <th>2</th>\n",
              "      <td>Aidan</td>\n",
              "      <td>Full-Time</td>\n",
              "      <td>Senior</td>\n",
              "      <td>College</td>\n",
              "      <td>170</td>\n",
              "      <td>15</td>\n",
              "      <td>2000</td>\n",
              "    </tr>\n",
              "    <tr>\n",
              "      <th>3</th>\n",
              "      <td>Sue</td>\n",
              "      <td>Part-Time</td>\n",
              "      <td>Mid</td>\n",
              "      <td>High School</td>\n",
              "      <td>220</td>\n",
              "      <td>5</td>\n",
              "      <td>1000</td>\n",
              "    </tr>\n",
              "    <tr>\n",
              "      <th>4</th>\n",
              "      <td>Ben</td>\n",
              "      <td>Full-Time</td>\n",
              "      <td>Junior</td>\n",
              "      <td>College</td>\n",
              "      <td>140</td>\n",
              "      <td>22</td>\n",
              "      <td>1600</td>\n",
              "    </tr>\n",
              "  </tbody>\n",
              "</table>\n",
              "</div>\n",
              "      <button class=\"colab-df-convert\" onclick=\"convertToInteractive('df-b4124f54-565d-4353-9b20-a091756e1f02')\"\n",
              "              title=\"Convert this dataframe to an interactive table.\"\n",
              "              style=\"display:none;\">\n",
              "        \n",
              "  <svg xmlns=\"http://www.w3.org/2000/svg\" height=\"24px\"viewBox=\"0 0 24 24\"\n",
              "       width=\"24px\">\n",
              "    <path d=\"M0 0h24v24H0V0z\" fill=\"none\"/>\n",
              "    <path d=\"M18.56 5.44l.94 2.06.94-2.06 2.06-.94-2.06-.94-.94-2.06-.94 2.06-2.06.94zm-11 1L8.5 8.5l.94-2.06 2.06-.94-2.06-.94L8.5 2.5l-.94 2.06-2.06.94zm10 10l.94 2.06.94-2.06 2.06-.94-2.06-.94-.94-2.06-.94 2.06-2.06.94z\"/><path d=\"M17.41 7.96l-1.37-1.37c-.4-.4-.92-.59-1.43-.59-.52 0-1.04.2-1.43.59L10.3 9.45l-7.72 7.72c-.78.78-.78 2.05 0 2.83L4 21.41c.39.39.9.59 1.41.59.51 0 1.02-.2 1.41-.59l7.78-7.78 2.81-2.81c.8-.78.8-2.07 0-2.86zM5.41 20L4 18.59l7.72-7.72 1.47 1.35L5.41 20z\"/>\n",
              "  </svg>\n",
              "      </button>\n",
              "      \n",
              "  <style>\n",
              "    .colab-df-container {\n",
              "      display:flex;\n",
              "      flex-wrap:wrap;\n",
              "      gap: 12px;\n",
              "    }\n",
              "\n",
              "    .colab-df-convert {\n",
              "      background-color: #E8F0FE;\n",
              "      border: none;\n",
              "      border-radius: 50%;\n",
              "      cursor: pointer;\n",
              "      display: none;\n",
              "      fill: #1967D2;\n",
              "      height: 32px;\n",
              "      padding: 0 0 0 0;\n",
              "      width: 32px;\n",
              "    }\n",
              "\n",
              "    .colab-df-convert:hover {\n",
              "      background-color: #E2EBFA;\n",
              "      box-shadow: 0px 1px 2px rgba(60, 64, 67, 0.3), 0px 1px 3px 1px rgba(60, 64, 67, 0.15);\n",
              "      fill: #174EA6;\n",
              "    }\n",
              "\n",
              "    [theme=dark] .colab-df-convert {\n",
              "      background-color: #3B4455;\n",
              "      fill: #D2E3FC;\n",
              "    }\n",
              "\n",
              "    [theme=dark] .colab-df-convert:hover {\n",
              "      background-color: #434B5C;\n",
              "      box-shadow: 0px 1px 3px 1px rgba(0, 0, 0, 0.15);\n",
              "      filter: drop-shadow(0px 1px 2px rgba(0, 0, 0, 0.3));\n",
              "      fill: #FFFFFF;\n",
              "    }\n",
              "  </style>\n",
              "\n",
              "      <script>\n",
              "        const buttonEl =\n",
              "          document.querySelector('#df-b4124f54-565d-4353-9b20-a091756e1f02 button.colab-df-convert');\n",
              "        buttonEl.style.display =\n",
              "          google.colab.kernel.accessAllowed ? 'block' : 'none';\n",
              "\n",
              "        async function convertToInteractive(key) {\n",
              "          const element = document.querySelector('#df-b4124f54-565d-4353-9b20-a091756e1f02');\n",
              "          const dataTable =\n",
              "            await google.colab.kernel.invokeFunction('convertToInteractive',\n",
              "                                                     [key], {});\n",
              "          if (!dataTable) return;\n",
              "\n",
              "          const docLinkHtml = 'Like what you see? Visit the ' +\n",
              "            '<a target=\"_blank\" href=https://colab.research.google.com/notebooks/data_table.ipynb>data table notebook</a>'\n",
              "            + ' to learn more about interactive tables.';\n",
              "          element.innerHTML = '';\n",
              "          dataTable['output_type'] = 'display_data';\n",
              "          await google.colab.output.renderOutput(dataTable, element);\n",
              "          const docLink = document.createElement('div');\n",
              "          docLink.innerHTML = docLinkHtml;\n",
              "          element.appendChild(docLink);\n",
              "        }\n",
              "      </script>\n",
              "    </div>\n",
              "  </div>\n",
              "  "
            ]
          },
          "metadata": {},
          "execution_count": 14
        }
      ],
      "source": [
        "#Read the data from \"employee_performance.csv\"\"\n",
        "data = pd.read_csv(\"employee_performance.csv\")\n",
        "#Use the .head() function to check the dataset\n",
        "data.head()"
      ]
    },
    {
      "cell_type": "markdown",
      "source": [
        "####Plot the education level\n",
        "\n",
        "First you create some insights about the education level of sales team and you decide that a pie chart will be useful. You need to determine the number of people in the different categories.\n",
        "\n",
        "📌 Use the .value_counts() function to determine the number of people in the different categories.\n"
      ],
      "metadata": {
        "id": "Eq5mYRO7fB-_"
      }
    },
    {
      "cell_type": "code",
      "source": [
        "#Use the .value_counts() function to determine the number of people in the different categories\n",
        "educational_level = data[\"Education\"].value_counts()\n",
        "#Display the result\n",
        "educational_level"
      ],
      "metadata": {
        "id": "m-7PMknQs4QU",
        "colab": {
          "base_uri": "https://localhost:8080/"
        },
        "outputId": "68918c64-4306-466c-89dd-06e84a510e6d"
      },
      "execution_count": 16,
      "outputs": [
        {
          "output_type": "execute_result",
          "data": {
            "text/plain": [
              "College        4\n",
              "High School    3\n",
              "University     3\n",
              "Name: Education, dtype: int64"
            ]
          },
          "metadata": {},
          "execution_count": 16
        }
      ]
    },
    {
      "cell_type": "markdown",
      "source": [
        "Then, create a pie chart with the labels \"College\", \"High School\", \"University\"\n",
        "\n",
        "📌 Use the .pie() function to create a pie chart and the \"labels\" argument, to give the indexes of the Pandas Series as labels."
      ],
      "metadata": {
        "id": "iGvSZQ3DYBjD"
      }
    },
    {
      "cell_type": "code",
      "source": [
        "#Create a pie chart with the labels \"College\", \"High School\", \"University\"\n",
        "plt.pie(educational_level , labels= educational_level.index)\n",
        "#Display the chart\n",
        "plt.show()"
      ],
      "metadata": {
        "id": "M_OdEevsZPqi",
        "colab": {
          "base_uri": "https://localhost:8080/",
          "height": 248
        },
        "outputId": "b9046ea6-bbf3-4fe5-b0cd-4c4cc60ea1f0"
      },
      "execution_count": 17,
      "outputs": [
        {
          "output_type": "display_data",
          "data": {
            "text/plain": [
              "<Figure size 432x288 with 1 Axes>"
            ],
            "image/png": "[encoded data removed]"
          },
          "metadata": {}
        }
      ]
    },
    {
      "cell_type": "markdown",
      "source": [
        "####Plot the revenue\n",
        "\n",
        "Next, you need to create a bar chart of the revenue generated by the employees.\n",
        "The names should be on the x-axis and revenues on the y-axis.\n",
        "\n",
        "📌 Use the .bar() function to create a bar chart of the revenue values."
      ],
      "metadata": {
        "id": "pdkWDA_46T7E"
      }
    },
    {
      "cell_type": "code",
      "source": [
        "#Create a bar chart with the names on the x-axis and the revenue values on the y-axis\n",
        "plt.bar(data[\"Name\"], data[\"Revenue\"])\n",
        "#Display the chart\n",
        "plt.show()"
      ],
      "metadata": {
        "id": "n_Xg2MhityuQ",
        "colab": {
          "base_uri": "https://localhost:8080/",
          "height": 265
        },
        "outputId": "76621d78-f526-4052-edee-81ab9c56bd0d"
      },
      "execution_count": 18,
      "outputs": [
        {
          "output_type": "display_data",
          "data": {
            "text/plain": [
              "<Figure size 432x288 with 1 Axes>"
            ],
            "image/png": "[encoded data removed]"
          },
          "metadata": {
            "needs_background": "light"
          }
        }
      ]
    },
    {
      "cell_type": "markdown",
      "source": [
        "The graph, in this state, just shows a comparison between employees. \n",
        "\n",
        "You decide to add the data \"Number of calls\" in the graph to increase the understandability. \n",
        "\n",
        "📌 Add the data for \"Revenue\" as well as for \"Number of calls\" to the bar chart. Use the argument \"label\" to label the data.\n",
        "\n",
        "To differentiate between the data, you need to add a legend. Also adding grid lines will be useful.\n",
        "\n",
        "📌 Add a legend by using the .legend() function and the .grid() function to add grid lines.\n"
      ],
      "metadata": {
        "id": "nnqivANx3j7R"
      }
    },
    {
      "cell_type": "code",
      "source": [
        "#Create a bar chart with the data \"Revenue\" and \"Number of calls\"\n",
        "plt.bar(data[\"Name\"], data[\"Revenue\"], label= \"Revenues\")\n",
        "plt.bar(data[\"Name\"], data[\"Number of Calls\"], label = \"Number of calls\")\n",
        "#Add a legend\n",
        "plt.legend()\n",
        "#Add grid lines\n",
        "plt.grid()\n",
        "#Display the chart\n",
        "plt.show()"
      ],
      "metadata": {
        "id": "2t30cboVvjXY",
        "colab": {
          "base_uri": "https://localhost:8080/",
          "height": 265
        },
        "outputId": "c44ce895-4807-4580-b20d-485259b688f2"
      },
      "execution_count": 21,
      "outputs": [
        {
          "output_type": "display_data",
          "data": {
            "text/plain": [
              "<Figure size 432x288 with 1 Axes>"
            ],
            "image/png": "[encoded data removed]"
          },
          "metadata": {
            "needs_background": "light"
          }
        }
      ]
    }
  ]
}